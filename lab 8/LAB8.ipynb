{
 "cells": [
  {
   "cell_type": "code",
   "execution_count": 49,
   "id": "8ef5ebca",
   "metadata": {},
   "outputs": [],
   "source": [
    "import pandas as pd\n",
    "import numpy as np\n",
    "import matplotlib.pyplot as plt\n",
    "from sklearn.preprocessing import LabelEncoder\n",
    "\n",
    "\n",
    "from sklearn.compose import ColumnTransformer\n",
    "from sklearn.preprocessing import OneHotEncoder\n",
    "from sklearn.preprocessing import StandardScaler\n",
    "from sklearn.model_selection import train_test_split"
   ]
  },
  {
   "cell_type": "code",
   "execution_count": 50,
   "id": "2e8e4bbe",
   "metadata": {},
   "outputs": [],
   "source": [
    "dataset = pd.read_csv(\"DataSet_for_ANN.csv\")"
   ]
  },
  {
   "cell_type": "code",
   "execution_count": 51,
   "id": "bbe95c03",
   "metadata": {},
   "outputs": [
    {
     "data": {
      "text/html": [
       "<div>\n",
       "<style scoped>\n",
       "    .dataframe tbody tr th:only-of-type {\n",
       "        vertical-align: middle;\n",
       "    }\n",
       "\n",
       "    .dataframe tbody tr th {\n",
       "        vertical-align: top;\n",
       "    }\n",
       "\n",
       "    .dataframe thead th {\n",
       "        text-align: right;\n",
       "    }\n",
       "</style>\n",
       "<table border=\"1\" class=\"dataframe\">\n",
       "  <thead>\n",
       "    <tr style=\"text-align: right;\">\n",
       "      <th></th>\n",
       "      <th>RowNumber</th>\n",
       "      <th>CustomerId</th>\n",
       "      <th>Surname</th>\n",
       "      <th>CreditScore</th>\n",
       "      <th>Geography</th>\n",
       "      <th>Gender</th>\n",
       "      <th>Age</th>\n",
       "      <th>Tenure</th>\n",
       "      <th>Balance</th>\n",
       "      <th>NumOfProducts</th>\n",
       "      <th>HasCrCard</th>\n",
       "      <th>IsActiveMember</th>\n",
       "      <th>EstimatedSalary</th>\n",
       "      <th>Exited</th>\n",
       "    </tr>\n",
       "  </thead>\n",
       "  <tbody>\n",
       "    <tr>\n",
       "      <th>0</th>\n",
       "      <td>1</td>\n",
       "      <td>15634602</td>\n",
       "      <td>Hargrave</td>\n",
       "      <td>619</td>\n",
       "      <td>France</td>\n",
       "      <td>Female</td>\n",
       "      <td>42</td>\n",
       "      <td>2</td>\n",
       "      <td>0.00</td>\n",
       "      <td>1</td>\n",
       "      <td>1</td>\n",
       "      <td>1</td>\n",
       "      <td>101348.88</td>\n",
       "      <td>1</td>\n",
       "    </tr>\n",
       "    <tr>\n",
       "      <th>1</th>\n",
       "      <td>2</td>\n",
       "      <td>15647311</td>\n",
       "      <td>Hill</td>\n",
       "      <td>608</td>\n",
       "      <td>Spain</td>\n",
       "      <td>Female</td>\n",
       "      <td>41</td>\n",
       "      <td>1</td>\n",
       "      <td>83807.86</td>\n",
       "      <td>1</td>\n",
       "      <td>0</td>\n",
       "      <td>1</td>\n",
       "      <td>112542.58</td>\n",
       "      <td>0</td>\n",
       "    </tr>\n",
       "    <tr>\n",
       "      <th>2</th>\n",
       "      <td>3</td>\n",
       "      <td>15619304</td>\n",
       "      <td>Onio</td>\n",
       "      <td>502</td>\n",
       "      <td>France</td>\n",
       "      <td>Female</td>\n",
       "      <td>42</td>\n",
       "      <td>8</td>\n",
       "      <td>159660.80</td>\n",
       "      <td>3</td>\n",
       "      <td>1</td>\n",
       "      <td>0</td>\n",
       "      <td>113931.57</td>\n",
       "      <td>1</td>\n",
       "    </tr>\n",
       "    <tr>\n",
       "      <th>3</th>\n",
       "      <td>4</td>\n",
       "      <td>15701354</td>\n",
       "      <td>Boni</td>\n",
       "      <td>699</td>\n",
       "      <td>France</td>\n",
       "      <td>Female</td>\n",
       "      <td>39</td>\n",
       "      <td>1</td>\n",
       "      <td>0.00</td>\n",
       "      <td>2</td>\n",
       "      <td>0</td>\n",
       "      <td>0</td>\n",
       "      <td>93826.63</td>\n",
       "      <td>0</td>\n",
       "    </tr>\n",
       "    <tr>\n",
       "      <th>4</th>\n",
       "      <td>5</td>\n",
       "      <td>15737888</td>\n",
       "      <td>Mitchell</td>\n",
       "      <td>850</td>\n",
       "      <td>Spain</td>\n",
       "      <td>Female</td>\n",
       "      <td>43</td>\n",
       "      <td>2</td>\n",
       "      <td>125510.82</td>\n",
       "      <td>1</td>\n",
       "      <td>1</td>\n",
       "      <td>1</td>\n",
       "      <td>79084.10</td>\n",
       "      <td>0</td>\n",
       "    </tr>\n",
       "    <tr>\n",
       "      <th>...</th>\n",
       "      <td>...</td>\n",
       "      <td>...</td>\n",
       "      <td>...</td>\n",
       "      <td>...</td>\n",
       "      <td>...</td>\n",
       "      <td>...</td>\n",
       "      <td>...</td>\n",
       "      <td>...</td>\n",
       "      <td>...</td>\n",
       "      <td>...</td>\n",
       "      <td>...</td>\n",
       "      <td>...</td>\n",
       "      <td>...</td>\n",
       "      <td>...</td>\n",
       "    </tr>\n",
       "    <tr>\n",
       "      <th>9995</th>\n",
       "      <td>9996</td>\n",
       "      <td>15606229</td>\n",
       "      <td>Obijiaku</td>\n",
       "      <td>771</td>\n",
       "      <td>France</td>\n",
       "      <td>Male</td>\n",
       "      <td>39</td>\n",
       "      <td>5</td>\n",
       "      <td>0.00</td>\n",
       "      <td>2</td>\n",
       "      <td>1</td>\n",
       "      <td>0</td>\n",
       "      <td>96270.64</td>\n",
       "      <td>0</td>\n",
       "    </tr>\n",
       "    <tr>\n",
       "      <th>9996</th>\n",
       "      <td>9997</td>\n",
       "      <td>15569892</td>\n",
       "      <td>Johnstone</td>\n",
       "      <td>516</td>\n",
       "      <td>France</td>\n",
       "      <td>Male</td>\n",
       "      <td>35</td>\n",
       "      <td>10</td>\n",
       "      <td>57369.61</td>\n",
       "      <td>1</td>\n",
       "      <td>1</td>\n",
       "      <td>1</td>\n",
       "      <td>101699.77</td>\n",
       "      <td>0</td>\n",
       "    </tr>\n",
       "    <tr>\n",
       "      <th>9997</th>\n",
       "      <td>9998</td>\n",
       "      <td>15584532</td>\n",
       "      <td>Liu</td>\n",
       "      <td>709</td>\n",
       "      <td>France</td>\n",
       "      <td>Female</td>\n",
       "      <td>36</td>\n",
       "      <td>7</td>\n",
       "      <td>0.00</td>\n",
       "      <td>1</td>\n",
       "      <td>0</td>\n",
       "      <td>1</td>\n",
       "      <td>42085.58</td>\n",
       "      <td>1</td>\n",
       "    </tr>\n",
       "    <tr>\n",
       "      <th>9998</th>\n",
       "      <td>9999</td>\n",
       "      <td>15682355</td>\n",
       "      <td>Sabbatini</td>\n",
       "      <td>772</td>\n",
       "      <td>Germany</td>\n",
       "      <td>Male</td>\n",
       "      <td>42</td>\n",
       "      <td>3</td>\n",
       "      <td>75075.31</td>\n",
       "      <td>2</td>\n",
       "      <td>1</td>\n",
       "      <td>0</td>\n",
       "      <td>92888.52</td>\n",
       "      <td>1</td>\n",
       "    </tr>\n",
       "    <tr>\n",
       "      <th>9999</th>\n",
       "      <td>10000</td>\n",
       "      <td>15628319</td>\n",
       "      <td>Walker</td>\n",
       "      <td>792</td>\n",
       "      <td>France</td>\n",
       "      <td>Female</td>\n",
       "      <td>28</td>\n",
       "      <td>4</td>\n",
       "      <td>130142.79</td>\n",
       "      <td>1</td>\n",
       "      <td>1</td>\n",
       "      <td>0</td>\n",
       "      <td>38190.78</td>\n",
       "      <td>0</td>\n",
       "    </tr>\n",
       "  </tbody>\n",
       "</table>\n",
       "<p>10000 rows × 14 columns</p>\n",
       "</div>"
      ],
      "text/plain": [
       "      RowNumber  CustomerId    Surname  CreditScore Geography  Gender  Age  \\\n",
       "0             1    15634602   Hargrave          619    France  Female   42   \n",
       "1             2    15647311       Hill          608     Spain  Female   41   \n",
       "2             3    15619304       Onio          502    France  Female   42   \n",
       "3             4    15701354       Boni          699    France  Female   39   \n",
       "4             5    15737888   Mitchell          850     Spain  Female   43   \n",
       "...         ...         ...        ...          ...       ...     ...  ...   \n",
       "9995       9996    15606229   Obijiaku          771    France    Male   39   \n",
       "9996       9997    15569892  Johnstone          516    France    Male   35   \n",
       "9997       9998    15584532        Liu          709    France  Female   36   \n",
       "9998       9999    15682355  Sabbatini          772   Germany    Male   42   \n",
       "9999      10000    15628319     Walker          792    France  Female   28   \n",
       "\n",
       "      Tenure    Balance  NumOfProducts  HasCrCard  IsActiveMember  \\\n",
       "0          2       0.00              1          1               1   \n",
       "1          1   83807.86              1          0               1   \n",
       "2          8  159660.80              3          1               0   \n",
       "3          1       0.00              2          0               0   \n",
       "4          2  125510.82              1          1               1   \n",
       "...      ...        ...            ...        ...             ...   \n",
       "9995       5       0.00              2          1               0   \n",
       "9996      10   57369.61              1          1               1   \n",
       "9997       7       0.00              1          0               1   \n",
       "9998       3   75075.31              2          1               0   \n",
       "9999       4  130142.79              1          1               0   \n",
       "\n",
       "      EstimatedSalary  Exited  \n",
       "0           101348.88       1  \n",
       "1           112542.58       0  \n",
       "2           113931.57       1  \n",
       "3            93826.63       0  \n",
       "4            79084.10       0  \n",
       "...               ...     ...  \n",
       "9995         96270.64       0  \n",
       "9996        101699.77       0  \n",
       "9997         42085.58       1  \n",
       "9998         92888.52       1  \n",
       "9999         38190.78       0  \n",
       "\n",
       "[10000 rows x 14 columns]"
      ]
     },
     "execution_count": 51,
     "metadata": {},
     "output_type": "execute_result"
    }
   ],
   "source": [
    "dataset"
   ]
  },
  {
   "cell_type": "code",
   "execution_count": 52,
   "id": "11d36ebe",
   "metadata": {},
   "outputs": [],
   "source": [
    "X = dataset.iloc[:,3:-1].values\n",
    "y = dataset.iloc[:,-1].values"
   ]
  },
  {
   "cell_type": "code",
   "execution_count": 53,
   "id": "e14d1532",
   "metadata": {},
   "outputs": [
    {
     "data": {
      "text/plain": [
       "array([[619, 'France', 'Female', 42, 2, 0.0, 1, 1, 1, 101348.88],\n",
       "       [608, 'Spain', 'Female', 41, 1, 83807.86, 1, 0, 1, 112542.58],\n",
       "       [502, 'France', 'Female', 42, 8, 159660.8, 3, 1, 0, 113931.57],\n",
       "       [699, 'France', 'Female', 39, 1, 0.0, 2, 0, 0, 93826.63],\n",
       "       [850, 'Spain', 'Female', 43, 2, 125510.82, 1, 1, 1, 79084.1]],\n",
       "      dtype=object)"
      ]
     },
     "execution_count": 53,
     "metadata": {},
     "output_type": "execute_result"
    }
   ],
   "source": [
    "X[0:5]\n",
    "# BEFORE"
   ]
  },
  {
   "cell_type": "code",
   "execution_count": 54,
   "id": "679e93a0",
   "metadata": {},
   "outputs": [],
   "source": [
    "le = LabelEncoder()\n",
    "X[:,2]= le.fit_transform(X[:,2])"
   ]
  },
  {
   "cell_type": "code",
   "execution_count": 55,
   "id": "477fee81",
   "metadata": {},
   "outputs": [
    {
     "data": {
      "text/plain": [
       "array([[619, 'France', 0, 42, 2, 0.0, 1, 1, 1, 101348.88],\n",
       "       [608, 'Spain', 0, 41, 1, 83807.86, 1, 0, 1, 112542.58],\n",
       "       [502, 'France', 0, 42, 8, 159660.8, 3, 1, 0, 113931.57],\n",
       "       [699, 'France', 0, 39, 1, 0.0, 2, 0, 0, 93826.63],\n",
       "       [850, 'Spain', 0, 43, 2, 125510.82, 1, 1, 1, 79084.1]],\n",
       "      dtype=object)"
      ]
     },
     "execution_count": 55,
     "metadata": {},
     "output_type": "execute_result"
    }
   ],
   "source": [
    "X[0:5]\n",
    "# AFTER"
   ]
  },
  {
   "cell_type": "code",
   "execution_count": 56,
   "id": "3068e429",
   "metadata": {},
   "outputs": [],
   "source": [
    "ct = ColumnTransformer(transformers=[('encoder', OneHotEncoder(),[1])],remainder='passthrough')"
   ]
  },
  {
   "cell_type": "code",
   "execution_count": 57,
   "id": "4a74b62a",
   "metadata": {},
   "outputs": [
    {
     "data": {
      "text/plain": [
       "array([[619, 'France', 0, 42, 2, 0.0, 1, 1, 1, 101348.88],\n",
       "       [608, 'Spain', 0, 41, 1, 83807.86, 1, 0, 1, 112542.58],\n",
       "       [502, 'France', 0, 42, 8, 159660.8, 3, 1, 0, 113931.57],\n",
       "       [699, 'France', 0, 39, 1, 0.0, 2, 0, 0, 93826.63],\n",
       "       [850, 'Spain', 0, 43, 2, 125510.82, 1, 1, 1, 79084.1]],\n",
       "      dtype=object)"
      ]
     },
     "execution_count": 57,
     "metadata": {},
     "output_type": "execute_result"
    }
   ],
   "source": [
    "X[0:5]\n",
    "# BEFORE"
   ]
  },
  {
   "cell_type": "code",
   "execution_count": 58,
   "id": "00f96fdf",
   "metadata": {},
   "outputs": [],
   "source": [
    "X = np.array(ct.fit_transform(X))"
   ]
  },
  {
   "cell_type": "code",
   "execution_count": 59,
   "id": "49491bf7",
   "metadata": {},
   "outputs": [
    {
     "data": {
      "text/plain": [
       "array([1.0, 0.0, 0.0, 619, 0, 42, 2, 0.0, 1, 1, 1, 101348.88],\n",
       "      dtype=object)"
      ]
     },
     "execution_count": 59,
     "metadata": {},
     "output_type": "execute_result"
    }
   ],
   "source": [
    "# AFTER\n",
    "X[0]"
   ]
  },
  {
   "cell_type": "code",
   "execution_count": 60,
   "id": "aa640c3b",
   "metadata": {},
   "outputs": [],
   "source": [
    " X_train, X_test, y_train, y_test = train_test_split(\n",
    " X,y,test_size=0.2,random_state=1)"
   ]
  },
  {
   "cell_type": "code",
   "execution_count": 61,
   "id": "0eb5d6d0",
   "metadata": {},
   "outputs": [
    {
     "data": {
      "text/plain": [
       "array([[0.0, 1.0, 0.0, ..., 0, 1, 124749.08],\n",
       "       [1.0, 0.0, 0.0, ..., 0, 0, 41104.82],\n",
       "       [0.0, 1.0, 0.0, ..., 1, 1, 45750.21],\n",
       "       ...,\n",
       "       [1.0, 0.0, 0.0, ..., 1, 1, 92027.69],\n",
       "       [1.0, 0.0, 0.0, ..., 1, 1, 101168.9],\n",
       "       [0.0, 1.0, 0.0, ..., 1, 0, 33462.94]], dtype=object)"
      ]
     },
     "execution_count": 61,
     "metadata": {},
     "output_type": "execute_result"
    }
   ],
   "source": [
    "X_train"
   ]
  },
  {
   "cell_type": "code",
   "execution_count": 62,
   "id": "1d46f5c2",
   "metadata": {},
   "outputs": [
    {
     "name": "stdout",
     "output_type": "stream",
     "text": [
      "8000\n"
     ]
    }
   ],
   "source": [
    "print(X_train.shape[0])"
   ]
  },
  {
   "cell_type": "code",
   "execution_count": 63,
   "id": "a31daaa9",
   "metadata": {},
   "outputs": [],
   "source": [
    "sc = StandardScaler()"
   ]
  },
  {
   "cell_type": "code",
   "execution_count": 64,
   "id": "de88fdaa",
   "metadata": {},
   "outputs": [],
   "source": [
    "X_train = sc.fit_transform(X_train)"
   ]
  },
  {
   "cell_type": "code",
   "execution_count": 65,
   "id": "c77e8a8f",
   "metadata": {},
   "outputs": [
    {
     "data": {
      "text/plain": [
       "array([[-0.99850112,  1.71490137, -0.57273139, ..., -1.55337352,\n",
       "         0.97725852,  0.42739449],\n",
       "       [ 1.00150113, -0.58312392, -0.57273139, ..., -1.55337352,\n",
       "        -1.02327069, -1.02548708],\n",
       "       [-0.99850112,  1.71490137, -0.57273139, ...,  0.64376017,\n",
       "         0.97725852, -0.94479772],\n",
       "       ...,\n",
       "       [ 1.00150113, -0.58312392, -0.57273139, ...,  0.64376017,\n",
       "         0.97725852, -0.14096853],\n",
       "       [ 1.00150113, -0.58312392, -0.57273139, ...,  0.64376017,\n",
       "         0.97725852,  0.01781218],\n",
       "       [-0.99850112,  1.71490137, -0.57273139, ...,  0.64376017,\n",
       "        -1.02327069, -1.15822478]])"
      ]
     },
     "execution_count": 65,
     "metadata": {},
     "output_type": "execute_result"
    }
   ],
   "source": [
    "X_train"
   ]
  },
  {
   "cell_type": "code",
   "execution_count": 66,
   "id": "03b2ca0a",
   "metadata": {},
   "outputs": [
    {
     "data": {
      "text/plain": [
       "array([[1.0, 0.0, 0.0, 550, 1, 47, 2, 0.0, 2, 1, 1, 97057.28],\n",
       "       [1.0, 0.0, 0.0, 680, 1, 34, 3, 143292.95, 1, 1, 0, 66526.01],\n",
       "       [1.0, 0.0, 0.0, 531, 0, 42, 2, 0.0, 2, 0, 1, 90537.47],\n",
       "       [0.0, 1.0, 0.0, 710, 1, 34, 8, 147833.3, 2, 0, 1, 1561.58],\n",
       "       [0.0, 1.0, 0.0, 543, 1, 30, 6, 73481.05, 1, 1, 1, 176692.65]],\n",
       "      dtype=object)"
      ]
     },
     "execution_count": 66,
     "metadata": {},
     "output_type": "execute_result"
    }
   ],
   "source": [
    "X_test[0:5]"
   ]
  },
  {
   "cell_type": "code",
   "execution_count": 67,
   "id": "e9bce279",
   "metadata": {},
   "outputs": [
    {
     "data": {
      "text/plain": [
       "array([[ 1.00150113, -0.58312392, -0.57273139, -1.03768121,  0.91509065,\n",
       "         0.77498705, -1.0482813 , -1.22599173,  0.80225696,  0.64376017,\n",
       "         0.97725852, -0.05360571],\n",
       "       [ 1.00150113, -0.58312392, -0.57273139,  0.30708683,  0.91509065,\n",
       "        -0.46686456, -0.70174202,  1.07152411, -0.91150957,  0.64376017,\n",
       "        -1.02327069, -0.58392685],\n",
       "       [ 1.00150113, -0.58312392, -0.57273139, -1.23422423, -1.09278791,\n",
       "         0.29735181, -1.0482813 , -1.22599173,  0.80225696, -1.55337352,\n",
       "         0.97725852, -0.16685331],\n",
       "       [-0.99850112,  1.71490137, -0.57273139,  0.61741792,  0.91509065,\n",
       "        -0.46686456,  1.03095433,  1.14432271,  0.80225696, -1.55337352,\n",
       "         0.97725852, -1.71234407],\n",
       "       [-0.99850112,  1.71490137, -0.57273139, -1.11009179,  0.91509065,\n",
       "        -0.84897275,  0.33787579, -0.04781879, -0.91150957,  0.64376017,\n",
       "         0.97725852,  1.32964236]])"
      ]
     },
     "execution_count": 67,
     "metadata": {},
     "output_type": "execute_result"
    }
   ],
   "source": [
    "X_test = sc.transform(X_test)\n",
    "X_test[0:5]"
   ]
  },
  {
   "cell_type": "code",
   "execution_count": 68,
   "id": "9a7db12d",
   "metadata": {},
   "outputs": [
    {
     "data": {
      "text/plain": [
       "'2.12.0'"
      ]
     },
     "execution_count": 68,
     "metadata": {},
     "output_type": "execute_result"
    }
   ],
   "source": [
    "import tensorflow as tf\n",
    "tf.__version__\n"
   ]
  },
  {
   "cell_type": "code",
   "execution_count": 75,
   "id": "5cb2fcb1",
   "metadata": {},
   "outputs": [],
   "source": [
    "ann = tf.keras.models.Sequential()"
   ]
  },
  {
   "cell_type": "code",
   "execution_count": 76,
   "id": "e6c2c82f",
   "metadata": {},
   "outputs": [],
   "source": [
    "ann.add(tf.keras.layers.Dense(units=6,activation=\"relu\"))"
   ]
  },
  {
   "cell_type": "code",
   "execution_count": 77,
   "id": "0b8f8044",
   "metadata": {},
   "outputs": [],
   "source": [
    "ann.add(tf.keras.layers.Dense(units=6,activation=\"relu\"))"
   ]
  },
  {
   "cell_type": "code",
   "execution_count": 78,
   "id": "18c3cce7",
   "metadata": {},
   "outputs": [],
   "source": [
    "ann.add(tf.keras.layers.Dense(units=1,activation=\"sigmoid\"))"
   ]
  },
  {
   "cell_type": "code",
   "execution_count": 79,
   "id": "eb16c1d8",
   "metadata": {},
   "outputs": [],
   "source": [
    "ann.compile(optimizer=\"adam\", loss=\"binary_crossentropy\", metrics = [\"accuracy\"])"
   ]
  },
  {
   "cell_type": "code",
   "execution_count": 81,
   "id": "ad7d3450",
   "metadata": {},
   "outputs": [
    {
     "name": "stdout",
     "output_type": "stream",
     "text": [
      "Epoch 1/100\n",
      "1000/1000 [==============================] - 1s 776us/step - loss: 0.3390 - accuracy: 0.8610\n",
      "Epoch 2/100\n",
      "1000/1000 [==============================] - 1s 779us/step - loss: 0.3382 - accuracy: 0.8609\n",
      "Epoch 3/100\n",
      "1000/1000 [==============================] - 1s 766us/step - loss: 0.3375 - accuracy: 0.8605\n",
      "Epoch 4/100\n",
      "1000/1000 [==============================] - 1s 765us/step - loss: 0.3377 - accuracy: 0.8611\n",
      "Epoch 5/100\n",
      "1000/1000 [==============================] - 1s 770us/step - loss: 0.3374 - accuracy: 0.8605\n",
      "Epoch 6/100\n",
      "1000/1000 [==============================] - 1s 764us/step - loss: 0.3373 - accuracy: 0.8618\n",
      "Epoch 7/100\n",
      "1000/1000 [==============================] - 1s 763us/step - loss: 0.3370 - accuracy: 0.8587\n",
      "Epoch 8/100\n",
      "1000/1000 [==============================] - 1s 765us/step - loss: 0.3365 - accuracy: 0.8614\n",
      "Epoch 9/100\n",
      "1000/1000 [==============================] - 1s 759us/step - loss: 0.3363 - accuracy: 0.8605\n",
      "Epoch 10/100\n",
      "1000/1000 [==============================] - 1s 761us/step - loss: 0.3371 - accuracy: 0.8595\n",
      "Epoch 11/100\n",
      "1000/1000 [==============================] - 1s 764us/step - loss: 0.3366 - accuracy: 0.8612\n",
      "Epoch 12/100\n",
      "1000/1000 [==============================] - 1s 765us/step - loss: 0.3366 - accuracy: 0.8596\n",
      "Epoch 13/100\n",
      "1000/1000 [==============================] - 1s 763us/step - loss: 0.3371 - accuracy: 0.8616\n",
      "Epoch 14/100\n",
      "1000/1000 [==============================] - 1s 793us/step - loss: 0.3371 - accuracy: 0.8604\n",
      "Epoch 15/100\n",
      "1000/1000 [==============================] - 1s 813us/step - loss: 0.3360 - accuracy: 0.8624\n",
      "Epoch 16/100\n",
      "1000/1000 [==============================] - 1s 786us/step - loss: 0.3359 - accuracy: 0.8625\n",
      "Epoch 17/100\n",
      "1000/1000 [==============================] - 1s 795us/step - loss: 0.3368 - accuracy: 0.8601\n",
      "Epoch 18/100\n",
      "1000/1000 [==============================] - 1s 781us/step - loss: 0.3364 - accuracy: 0.8601\n",
      "Epoch 19/100\n",
      "1000/1000 [==============================] - 1s 780us/step - loss: 0.3356 - accuracy: 0.8604\n",
      "Epoch 20/100\n",
      "1000/1000 [==============================] - 1s 766us/step - loss: 0.3347 - accuracy: 0.8620\n",
      "Epoch 21/100\n",
      "1000/1000 [==============================] - 1s 760us/step - loss: 0.3358 - accuracy: 0.8608\n",
      "Epoch 22/100\n",
      "1000/1000 [==============================] - 1s 766us/step - loss: 0.3352 - accuracy: 0.8597\n",
      "Epoch 23/100\n",
      "1000/1000 [==============================] - 1s 763us/step - loss: 0.3359 - accuracy: 0.8611\n",
      "Epoch 24/100\n",
      "1000/1000 [==============================] - 1s 766us/step - loss: 0.3359 - accuracy: 0.8614\n",
      "Epoch 25/100\n",
      "1000/1000 [==============================] - 1s 764us/step - loss: 0.3347 - accuracy: 0.8608\n",
      "Epoch 26/100\n",
      "1000/1000 [==============================] - 1s 756us/step - loss: 0.3359 - accuracy: 0.8593\n",
      "Epoch 27/100\n",
      "1000/1000 [==============================] - 1s 763us/step - loss: 0.3350 - accuracy: 0.8618\n",
      "Epoch 28/100\n",
      "1000/1000 [==============================] - 1s 768us/step - loss: 0.3348 - accuracy: 0.8644\n",
      "Epoch 29/100\n",
      "1000/1000 [==============================] - 1s 767us/step - loss: 0.3355 - accuracy: 0.8620\n",
      "Epoch 30/100\n",
      "1000/1000 [==============================] - 1s 770us/step - loss: 0.3348 - accuracy: 0.8627\n",
      "Epoch 31/100\n",
      "1000/1000 [==============================] - 1s 769us/step - loss: 0.3346 - accuracy: 0.8611\n",
      "Epoch 32/100\n",
      "1000/1000 [==============================] - 1s 765us/step - loss: 0.3353 - accuracy: 0.8612\n",
      "Epoch 33/100\n",
      "1000/1000 [==============================] - 1s 768us/step - loss: 0.3354 - accuracy: 0.8602\n",
      "Epoch 34/100\n",
      "1000/1000 [==============================] - 1s 761us/step - loss: 0.3347 - accuracy: 0.8611\n",
      "Epoch 35/100\n",
      "1000/1000 [==============================] - 1s 775us/step - loss: 0.3354 - accuracy: 0.8621\n",
      "Epoch 36/100\n",
      "1000/1000 [==============================] - 1s 773us/step - loss: 0.3355 - accuracy: 0.8629\n",
      "Epoch 37/100\n",
      "1000/1000 [==============================] - 1s 772us/step - loss: 0.3350 - accuracy: 0.8590\n",
      "Epoch 38/100\n",
      "1000/1000 [==============================] - 1s 800us/step - loss: 0.3347 - accuracy: 0.8625\n",
      "Epoch 39/100\n",
      "1000/1000 [==============================] - 1s 764us/step - loss: 0.3355 - accuracy: 0.8614\n",
      "Epoch 40/100\n",
      "1000/1000 [==============================] - 1s 769us/step - loss: 0.3345 - accuracy: 0.8612\n",
      "Epoch 41/100\n",
      "1000/1000 [==============================] - 1s 768us/step - loss: 0.3350 - accuracy: 0.8621\n",
      "Epoch 42/100\n",
      "1000/1000 [==============================] - 1s 780us/step - loss: 0.3350 - accuracy: 0.8618\n",
      "Epoch 43/100\n",
      "1000/1000 [==============================] - 1s 788us/step - loss: 0.3342 - accuracy: 0.8620\n",
      "Epoch 44/100\n",
      "1000/1000 [==============================] - 1s 763us/step - loss: 0.3346 - accuracy: 0.8621\n",
      "Epoch 45/100\n",
      "1000/1000 [==============================] - 1s 763us/step - loss: 0.3345 - accuracy: 0.8630\n",
      "Epoch 46/100\n",
      "1000/1000 [==============================] - 1s 765us/step - loss: 0.3348 - accuracy: 0.8631\n",
      "Epoch 47/100\n",
      "1000/1000 [==============================] - 1s 762us/step - loss: 0.3351 - accuracy: 0.8600\n",
      "Epoch 48/100\n",
      "1000/1000 [==============================] - 1s 775us/step - loss: 0.3349 - accuracy: 0.8630\n",
      "Epoch 49/100\n",
      "1000/1000 [==============================] - 1s 762us/step - loss: 0.3345 - accuracy: 0.8639\n",
      "Epoch 50/100\n",
      "1000/1000 [==============================] - 1s 762us/step - loss: 0.3348 - accuracy: 0.8636\n",
      "Epoch 51/100\n",
      "1000/1000 [==============================] - 1s 758us/step - loss: 0.3341 - accuracy: 0.8627\n",
      "Epoch 52/100\n",
      "1000/1000 [==============================] - 1s 769us/step - loss: 0.3345 - accuracy: 0.8619\n",
      "Epoch 53/100\n",
      "1000/1000 [==============================] - 1s 765us/step - loss: 0.3345 - accuracy: 0.8635\n",
      "Epoch 54/100\n",
      "1000/1000 [==============================] - 1s 764us/step - loss: 0.3344 - accuracy: 0.8625\n",
      "Epoch 55/100\n",
      "1000/1000 [==============================] - 1s 774us/step - loss: 0.3349 - accuracy: 0.8630\n",
      "Epoch 56/100\n",
      "1000/1000 [==============================] - 1s 763us/step - loss: 0.3345 - accuracy: 0.8629\n",
      "Epoch 57/100\n",
      "1000/1000 [==============================] - 1s 763us/step - loss: 0.3347 - accuracy: 0.8630\n",
      "Epoch 58/100\n",
      "1000/1000 [==============================] - 1s 764us/step - loss: 0.3348 - accuracy: 0.8619\n",
      "Epoch 59/100\n",
      "1000/1000 [==============================] - 1s 812us/step - loss: 0.3340 - accuracy: 0.8627\n",
      "Epoch 60/100\n",
      "1000/1000 [==============================] - 1s 772us/step - loss: 0.3345 - accuracy: 0.8627\n",
      "Epoch 61/100\n",
      "1000/1000 [==============================] - 1s 795us/step - loss: 0.3345 - accuracy: 0.8622\n",
      "Epoch 62/100\n",
      "1000/1000 [==============================] - 1s 781us/step - loss: 0.3348 - accuracy: 0.8612\n",
      "Epoch 63/100\n",
      "1000/1000 [==============================] - 1s 770us/step - loss: 0.3350 - accuracy: 0.8619\n",
      "Epoch 64/100\n",
      "1000/1000 [==============================] - 1s 765us/step - loss: 0.3338 - accuracy: 0.8626\n",
      "Epoch 65/100\n",
      "1000/1000 [==============================] - 1s 789us/step - loss: 0.3345 - accuracy: 0.8611\n",
      "Epoch 66/100\n",
      "1000/1000 [==============================] - 1s 768us/step - loss: 0.3341 - accuracy: 0.8629\n",
      "Epoch 67/100\n",
      "1000/1000 [==============================] - 1s 760us/step - loss: 0.3344 - accuracy: 0.8643\n",
      "Epoch 68/100\n",
      "1000/1000 [==============================] - 1s 768us/step - loss: 0.3338 - accuracy: 0.8624\n",
      "Epoch 69/100\n",
      "1000/1000 [==============================] - 1s 764us/step - loss: 0.3341 - accuracy: 0.8612\n",
      "Epoch 70/100\n",
      "1000/1000 [==============================] - 1s 764us/step - loss: 0.3341 - accuracy: 0.8616\n",
      "Epoch 71/100\n",
      "1000/1000 [==============================] - 1s 770us/step - loss: 0.3346 - accuracy: 0.8612\n",
      "Epoch 72/100\n",
      "1000/1000 [==============================] - 1s 765us/step - loss: 0.3345 - accuracy: 0.8630\n",
      "Epoch 73/100\n",
      "1000/1000 [==============================] - 1s 769us/step - loss: 0.3336 - accuracy: 0.8620\n",
      "Epoch 74/100\n",
      "1000/1000 [==============================] - 1s 767us/step - loss: 0.3341 - accuracy: 0.8618\n",
      "Epoch 75/100\n",
      "1000/1000 [==============================] - 1s 772us/step - loss: 0.3340 - accuracy: 0.8630\n",
      "Epoch 76/100\n",
      "1000/1000 [==============================] - 1s 767us/step - loss: 0.3342 - accuracy: 0.8618\n",
      "Epoch 77/100\n",
      "1000/1000 [==============================] - 1s 763us/step - loss: 0.3338 - accuracy: 0.8636\n",
      "Epoch 78/100\n"
     ]
    },
    {
     "name": "stdout",
     "output_type": "stream",
     "text": [
      "1000/1000 [==============================] - 1s 769us/step - loss: 0.3339 - accuracy: 0.8616\n",
      "Epoch 79/100\n",
      "1000/1000 [==============================] - 1s 778us/step - loss: 0.3346 - accuracy: 0.8624\n",
      "Epoch 80/100\n",
      "1000/1000 [==============================] - 1s 797us/step - loss: 0.3342 - accuracy: 0.8625\n",
      "Epoch 81/100\n",
      "1000/1000 [==============================] - 1s 796us/step - loss: 0.3340 - accuracy: 0.8625\n",
      "Epoch 82/100\n",
      "1000/1000 [==============================] - 1s 798us/step - loss: 0.3338 - accuracy: 0.8637\n",
      "Epoch 83/100\n",
      "1000/1000 [==============================] - 1s 786us/step - loss: 0.3342 - accuracy: 0.8629\n",
      "Epoch 84/100\n",
      "1000/1000 [==============================] - 1s 779us/step - loss: 0.3341 - accuracy: 0.8620\n",
      "Epoch 85/100\n",
      "1000/1000 [==============================] - 1s 775us/step - loss: 0.3339 - accuracy: 0.8629\n",
      "Epoch 86/100\n",
      "1000/1000 [==============================] - 1s 777us/step - loss: 0.3336 - accuracy: 0.8630\n",
      "Epoch 87/100\n",
      "1000/1000 [==============================] - 1s 757us/step - loss: 0.3337 - accuracy: 0.8619\n",
      "Epoch 88/100\n",
      "1000/1000 [==============================] - 1s 774us/step - loss: 0.3340 - accuracy: 0.8630\n",
      "Epoch 89/100\n",
      "1000/1000 [==============================] - 1s 763us/step - loss: 0.3338 - accuracy: 0.8622\n",
      "Epoch 90/100\n",
      "1000/1000 [==============================] - 1s 764us/step - loss: 0.3339 - accuracy: 0.8614\n",
      "Epoch 91/100\n",
      "1000/1000 [==============================] - 1s 770us/step - loss: 0.3335 - accuracy: 0.8621\n",
      "Epoch 92/100\n",
      "1000/1000 [==============================] - 1s 796us/step - loss: 0.3333 - accuracy: 0.8648\n",
      "Epoch 93/100\n",
      "1000/1000 [==============================] - 1s 777us/step - loss: 0.3335 - accuracy: 0.8626\n",
      "Epoch 94/100\n",
      "1000/1000 [==============================] - 1s 775us/step - loss: 0.3339 - accuracy: 0.8634\n",
      "Epoch 95/100\n",
      "1000/1000 [==============================] - 1s 774us/step - loss: 0.3341 - accuracy: 0.8622\n",
      "Epoch 96/100\n",
      "1000/1000 [==============================] - 1s 767us/step - loss: 0.3340 - accuracy: 0.8618\n",
      "Epoch 97/100\n",
      "1000/1000 [==============================] - 1s 762us/step - loss: 0.3335 - accuracy: 0.8631\n",
      "Epoch 98/100\n",
      "1000/1000 [==============================] - 1s 757us/step - loss: 0.3335 - accuracy: 0.8616\n",
      "Epoch 99/100\n",
      "1000/1000 [==============================] - 1s 772us/step - loss: 0.3337 - accuracy: 0.8633\n",
      "Epoch 100/100\n",
      "1000/1000 [==============================] - 1s 794us/step - loss: 0.3343 - accuracy: 0.8633\n"
     ]
    }
   ],
   "source": [
    "results = ann.fit(X_train, y_train, batch_size=8,epochs=100)"
   ]
  },
  {
   "cell_type": "code",
   "execution_count": 82,
   "id": "8a4420cb",
   "metadata": {},
   "outputs": [
    {
     "name": "stdout",
     "output_type": "stream",
     "text": [
      "Model: \"sequential_6\"\n",
      "_________________________________________________________________\n",
      " Layer (type)                Output Shape              Param #   \n",
      "=================================================================\n",
      " dense_15 (Dense)            (None, 6)                 78        \n",
      "                                                                 \n",
      " dense_16 (Dense)            (None, 6)                 42        \n",
      "                                                                 \n",
      " dense_17 (Dense)            (None, 1)                 7         \n",
      "                                                                 \n",
      "=================================================================\n",
      "Total params: 127\n",
      "Trainable params: 127\n",
      "Non-trainable params: 0\n",
      "_________________________________________________________________\n"
     ]
    }
   ],
   "source": [
    "ann.summary()"
   ]
  },
  {
   "cell_type": "code",
   "execution_count": 83,
   "id": "83080623",
   "metadata": {},
   "outputs": [
    {
     "name": "stdout",
     "output_type": "stream",
     "text": [
      "63/63 [==============================] - 0s 567us/step\n",
      "[[0]\n",
      " [0]\n",
      " [0]\n",
      " ...\n",
      " [0]\n",
      " [0]\n",
      " [0]]\n"
     ]
    }
   ],
   "source": [
    "y_pred = ann.predict(X_test)\n",
    "y_pred = (y_pred >0.5)\n",
    "print(np.concatenate((y_pred.reshape(len(y_pred),1),y_test.reshape(len(y_test),1))))"
   ]
  },
  {
   "cell_type": "code",
   "execution_count": 86,
   "id": "e42bad8a",
   "metadata": {},
   "outputs": [
    {
     "name": "stdout",
     "output_type": "stream",
     "text": [
      "[[1524   61]\n",
      " [ 211  204]]\n"
     ]
    },
    {
     "data": {
      "text/plain": [
       "0.864"
      ]
     },
     "execution_count": 86,
     "metadata": {},
     "output_type": "execute_result"
    }
   ],
   "source": [
    "from sklearn.metrics import confusion_matrix, accuracy_score\n",
    "cm = confusion_matrix(y_test,y_pred)\n",
    "print(cm)\n",
    "accuracy_score(y_test,y_pred)"
   ]
  },
  {
   "cell_type": "code",
   "execution_count": null,
   "id": "9df19360",
   "metadata": {},
   "outputs": [],
   "source": [
    "print(ann.predict(sc.transform()))"
   ]
  }
 ],
 "metadata": {
  "kernelspec": {
   "display_name": "Python 3 (ipykernel)",
   "language": "python",
   "name": "python3"
  },
  "language_info": {
   "codemirror_mode": {
    "name": "ipython",
    "version": 3
   },
   "file_extension": ".py",
   "mimetype": "text/x-python",
   "name": "python",
   "nbconvert_exporter": "python",
   "pygments_lexer": "ipython3",
   "version": "3.9.7"
  }
 },
 "nbformat": 4,
 "nbformat_minor": 5
}
